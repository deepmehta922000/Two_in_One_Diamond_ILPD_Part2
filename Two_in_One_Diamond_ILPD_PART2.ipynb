{
  "cells": [
    {
      "cell_type": "markdown",
      "source": [
        "**PART-1 : ILPD**"
      ],
      "metadata": {
        "id": "zT-OyCaNpIFX"
      }
    },
    {
      "cell_type": "markdown",
      "metadata": {
        "id": "dEBrDGA0GRjW"
      },
      "source": [
        "**STEPS**\n",
        "\n",
        "Downloaded the Indian Liver Patient Dataset from https://archive.ics.uci.edu/ml/datasets/ILPD+(Indian+Liver+Patient+Dataset).\n",
        "\n",
        "Preprocessed the data to take care of null values, and replace the categorical attribute with multiple binary attributes using one-hot encoding.\n",
        "\n",
        "Used random seed 633.\n",
        "Divideed the dataset 70:30 into a training and a test set using random seed. \n",
        "\n",
        "\n",
        "**1.1.**\tLearn a Logistic Regression classifier on the training set. Evaluate the classifier on the test set and compute the following evaluation measures: (i) Accuracy, Error Rate (ii) TPR, FPR, TNR, FNR  (iiI) Sensitivity, Specificity (iv) Precision, Recall, F-measure.\n",
        "\n",
        "**1.2.**\tThe LR classifier returns a score (posterior probability) for each sample. Used this score to plot the ROC curve for the test set and compute the Area under the Curve (AUC).\n",
        "\n",
        "**1.3.**\tWhat evaluation metric matters most for this problem in your opinion, and why ? Pickd a desired value of that evaluation metric (e.g. such that FPR < 5%). Determined the optimal threshold on the score that achieves the desired value of your evaluation metric.\n",
        "\n",
        "Repeatd 1.2 above but plot Precision vs Recall (PR curve) instead of ROC curve. When to prefer to use PR curve instead of ROC curve ?\n"
      ]
    },
    {
      "cell_type": "markdown",
      "source": [
        "Solution 1.1"
      ],
      "metadata": {
        "id": "es0bKIAVQ0-n"
      }
    },
    {
      "cell_type": "code",
      "source": [
        "import pandas as pd \n",
        "import matplotlib.pyplot as plt\n",
        "%matplotlib inline\n",
        "data = pd.read_csv(\"ILPD.csv\") \n",
        "data.isnull().sum() "
      ],
      "metadata": {
        "colab": {
          "base_uri": "https://localhost:8080/"
        },
        "id": "N3SqSXCfQp6x",
        "outputId": "42d69888-d64b-4270-9459-259d2a826f59"
      },
      "execution_count": null,
      "outputs": [
        {
          "output_type": "execute_result",
          "data": {
            "text/plain": [
              "Age         0\n",
              "Gender      0\n",
              "TB          0\n",
              "DB          0\n",
              "Alkphos     0\n",
              "Sgpt        0\n",
              "Sgot        0\n",
              "TB.1        0\n",
              "ALB         0\n",
              "A/G         4\n",
              "Patient     0\n",
              "dtype: int64"
            ]
          },
          "metadata": {},
          "execution_count": 27
        }
      ]
    },
    {
      "cell_type": "code",
      "source": [
        "from sklearn import preprocessing\n",
        "  \n",
        "# label_encoder object knows how to understand word labels.\n",
        "label_encoder = preprocessing.LabelEncoder()\n",
        "  \n",
        "# Encode labels in column 'Gender'.\n",
        "data['A/G']=data['A/G'].fillna(value=data['A/G'].mean())\n",
        "data['Gender']= label_encoder.fit_transform(data['Gender'])\n",
        "data.isnull().sum() "
      ],
      "metadata": {
        "colab": {
          "base_uri": "https://localhost:8080/"
        },
        "id": "BfNaItNrRnYS",
        "outputId": "056b2008-9f2f-4ffa-ed0f-a52b8faa92df"
      },
      "execution_count": null,
      "outputs": [
        {
          "output_type": "execute_result",
          "data": {
            "text/plain": [
              "Age         0\n",
              "Gender      0\n",
              "TB          0\n",
              "DB          0\n",
              "Alkphos     0\n",
              "Sgpt        0\n",
              "Sgot        0\n",
              "TB.1        0\n",
              "ALB         0\n",
              "A/G         0\n",
              "Patient     0\n",
              "dtype: int64"
            ]
          },
          "metadata": {},
          "execution_count": 28
        }
      ]
    },
    {
      "cell_type": "code",
      "source": [
        "from sklearn.model_selection import train_test_split\n",
        "\n",
        "X = data.drop('Patient',axis=1)\n",
        "y = data.Patient\n",
        "\n",
        "X_test,X_train,y_test,y_train = train_test_split(X,y, test_size=0.3, random_state = 633)\n",
        "print(X.shape)\n",
        "print(y_test.shape)"
      ],
      "metadata": {
        "id": "LZIL5v8CR2qt",
        "colab": {
          "base_uri": "https://localhost:8080/"
        },
        "outputId": "5fa24461-03f8-4d90-c6c0-b71422cbe2e1"
      },
      "execution_count": null,
      "outputs": [
        {
          "output_type": "stream",
          "name": "stdout",
          "text": [
            "(583, 10)\n",
            "(408,)\n"
          ]
        }
      ]
    },
    {
      "cell_type": "code",
      "source": [
        "# import the class\n",
        "from sklearn.linear_model import LogisticRegression\n",
        "\n",
        "# instantiate the model (using the default parameters)\n",
        "logreg = LogisticRegression(random_state=633)\n",
        "\n",
        "# fit the model with data\n",
        "logreg.fit(X_train, y_train)\n",
        "\n",
        "y_pred = logreg.predict(X_test)"
      ],
      "metadata": {
        "colab": {
          "base_uri": "https://localhost:8080/"
        },
        "id": "Bh-_DrfMThAm",
        "outputId": "4190968a-207c-41ba-e3b4-26a977ea198f"
      },
      "execution_count": null,
      "outputs": [
        {
          "output_type": "stream",
          "name": "stderr",
          "text": [
            "/usr/local/lib/python3.7/dist-packages/sklearn/linear_model/_logistic.py:818: ConvergenceWarning: lbfgs failed to converge (status=1):\n",
            "STOP: TOTAL NO. of ITERATIONS REACHED LIMIT.\n",
            "\n",
            "Increase the number of iterations (max_iter) or scale the data as shown in:\n",
            "    https://scikit-learn.org/stable/modules/preprocessing.html\n",
            "Please also refer to the documentation for alternative solver options:\n",
            "    https://scikit-learn.org/stable/modules/linear_model.html#logistic-regression\n",
            "  extra_warning_msg=_LOGISTIC_SOLVER_CONVERGENCE_MSG,\n"
          ]
        }
      ]
    },
    {
      "cell_type": "code",
      "source": [
        "from sklearn import metrics\n",
        "\n",
        "confusion_matrix = metrics.confusion_matrix(y_test, y_pred)\n",
        "confusion_matrix"
      ],
      "metadata": {
        "colab": {
          "base_uri": "https://localhost:8080/"
        },
        "id": "wC_j1S-oXvA3",
        "outputId": "74b8004d-3181-40ad-e097-53fe8f090663"
      },
      "execution_count": null,
      "outputs": [
        {
          "output_type": "execute_result",
          "data": {
            "text/plain": [
              "array([[263,  36],\n",
              "       [ 76,  33]])"
            ]
          },
          "metadata": {},
          "execution_count": 31
        }
      ]
    },
    {
      "cell_type": "code",
      "source": [
        "import numpy as np\n",
        "import matplotlib.pyplot as plt\n",
        "import seaborn as sns\n",
        "\n",
        "class_names=[0,1] # name  of classes\n",
        "fig, ax = plt.subplots()\n",
        "tick_marks = np.arange(len(class_names))\n",
        "plt.xticks(tick_marks, class_names)\n",
        "plt.yticks(tick_marks, class_names)\n",
        "# create heatmap\n",
        "sns.heatmap(pd.DataFrame(confusion_matrix), annot=True, cmap=\"YlGnBu\" ,fmt='g')\n",
        "ax.xaxis.set_label_position(\"top\")\n",
        "plt.tight_layout()\n",
        "plt.title('Confusion matrix')\n",
        "plt.ylabel('Actual label')\n",
        "plt.xlabel('Predicted label')\n"
      ],
      "metadata": {
        "id": "I7FFHAH-ZIYn",
        "colab": {
          "base_uri": "https://localhost:8080/",
          "height": 342
        },
        "outputId": "134e95f8-1c89-4af3-afb4-19e5c62621b8"
      },
      "execution_count": null,
      "outputs": [
        {
          "output_type": "execute_result",
          "data": {
            "text/plain": [
              "Text(0.5, 257.44, 'Predicted label')"
            ]
          },
          "metadata": {},
          "execution_count": 32
        },
        {
          "output_type": "display_data",
          "data": {
            "text/plain": [
              "<Figure size 432x288 with 2 Axes>"
            ],
            "image/png": "[encoded data removed]"
          },
          "metadata": {
            "needs_background": "light"
          }
        }
      ]
    },
    {
      "cell_type": "code",
      "source": [
        "print(confusion_matrix.sum(axis=0)-np.diag(confusion_matrix))\n",
        "print(confusion_matrix[1,0])"
      ],
      "metadata": {
        "colab": {
          "base_uri": "https://localhost:8080/"
        },
        "id": "h16NxDSjpKP4",
        "outputId": "009c4915-8de4-4d7b-fdb4-aa724c2ee06f"
      },
      "execution_count": null,
      "outputs": [
        {
          "output_type": "stream",
          "name": "stdout",
          "text": [
            "[76 36]\n",
            "76\n"
          ]
        }
      ]
    },
    {
      "cell_type": "code",
      "source": [
        "\n",
        "# Tried differnt methods to exract data from confusion matrix\n",
        "'''FP = confusion_matrix.sum(axis=0) - np.diag(confusion_matrix)  \n",
        "FN = confusion_matrix.sum(axis=1) - np.diag(confusion_matrix)\n",
        "TP = np.diag(confusion_matrix) - confusion_matrix.sum(axis=1)\n",
        "TN = np.diag(confusion_matrix) - confusion_matrix.sum(axis=0)'''\n",
        "\n",
        "'''TP = 263\n",
        "TN = 33\n",
        "FN = 36\n",
        "FP = 76'''\n",
        "\n",
        "TN = confusion_matrix[0,0]\n",
        "FN = confusion_matrix[1,0]\n",
        "FP = confusion_matrix[0,1]\n",
        "TP = confusion_matrix[1,1]\n",
        "\n",
        "# Sensitivity, hit rate, recall, or true positive rate\n",
        "TPR = TP/(TP+FN)\n",
        "# Specificity or true negative rate\n",
        "TNR = TN/(TN+FP) \n",
        "# Fall out or false positive rate\n",
        "FPR = FP/(FP+TN)\n",
        "# False negative rate\n",
        "FNR = FN/(TP+FN)\n",
        "# Precision\n",
        "precision = TP/(TP+FP)\n",
        "# Recall\n",
        "recall = TP/(FN+TP)\n",
        "# F1 score, F Measure\n",
        "f_measure = (2*(precision*recall))/(precision+recall)\n",
        "\n",
        "\n",
        "# Overall accuracy\n",
        "ACC = (TP+TN)/(TP+FP+FN+TN)\n",
        "\n",
        "\n",
        "# Print everything\n",
        "print(\"Acc: \"+ str(ACC))\n",
        "print(\"TPR, Sensitivity: \"+ str(TPR))\n",
        "print(\"TNR, Specificity: \"+ str(TNR))\n",
        "print(\"FPR: \"+ str(FPR))\n",
        "print(\"FNR: \"+ str(FNR))\n",
        "print(\"precision: \"+ str(precision))\n",
        "print(\"recall: \"+ str(recall))\n",
        "print(\"f_measure: \"+ str(f_measure))\n",
        "\n",
        "\n",
        "# FOR VERIFICATION\n",
        "\n",
        "from sklearn.metrics import precision_score, recall_score, f1_score\n",
        "print('\\nVERIFICATION')\n",
        "print('Precision: ' + str (precision_score(y_test, y_pred)))\n",
        "\t\n",
        "print('Recall: '+ str (recall_score(y_test, y_pred)))\n",
        "\n",
        "print('f1_score, F Measure: '+ str (f1_score(y_test, y_pred)))"
      ],
      "metadata": {
        "colab": {
          "base_uri": "https://localhost:8080/"
        },
        "id": "aCQ8pBdNih5z",
        "outputId": "bcd7c4e6-5df9-4c06-be28-52671b331cbc"
      },
      "execution_count": null,
      "outputs": [
        {
          "output_type": "stream",
          "name": "stdout",
          "text": [
            "Acc: 0.16911764705882354\n",
            "TPR, Sensitivity: 0.30275229357798167\n",
            "TNR, Specificity: 0.12040133779264214\n",
            "FPR: 0.8795986622073578\n",
            "FNR: 0.6972477064220184\n",
            "precision: 0.11148648648648649\n",
            "recall: 0.30275229357798167\n",
            "f_measure: 0.16296296296296298\n",
            "\n",
            "VERIFICATION\n",
            "Precision: 0.775811209439528\n",
            "Recall: 0.8795986622073578\n",
            "f1_score, F Measure: 0.8244514106583071\n"
          ]
        }
      ]
    },
    {
      "cell_type": "code",
      "source": [
        "# FOR VERIFICATION\n",
        "from sklearn.metrics import classification_report\n",
        "target_names = ['Patient', 'Not Patient']\n",
        "print(classification_report(y_test, y_pred, target_names=target_names))"
      ],
      "metadata": {
        "colab": {
          "base_uri": "https://localhost:8080/"
        },
        "id": "BEb0yUndaFLu",
        "outputId": "798593f9-84d0-4bad-b0e5-2e12027f50fc"
      },
      "execution_count": null,
      "outputs": [
        {
          "output_type": "stream",
          "name": "stdout",
          "text": [
            "              precision    recall  f1-score   support\n",
            "\n",
            "     Patient       0.78      0.88      0.82       299\n",
            " Not Patient       0.48      0.30      0.37       109\n",
            "\n",
            "    accuracy                           0.73       408\n",
            "   macro avg       0.63      0.59      0.60       408\n",
            "weighted avg       0.70      0.73      0.70       408\n",
            "\n"
          ]
        }
      ]
    },
    {
      "cell_type": "code",
      "source": [
        "# FOR VERIFICATION\n",
        "from sklearn.metrics import accuracy_score\n",
        "accuracy = accuracy_score(y_test, y_pred)\n",
        "\n",
        "print(\"accuracy: \" + str(accuracy))\n",
        "print(\"error rate : \"+ str(1-accuracy))"
      ],
      "metadata": {
        "colab": {
          "base_uri": "https://localhost:8080/"
        },
        "id": "gMYgy3dDduP0",
        "outputId": "d10dd877-5cd5-47ce-d62c-2fd1347c0ba4"
      },
      "execution_count": null,
      "outputs": [
        {
          "output_type": "stream",
          "name": "stdout",
          "text": [
            "accuracy: 0.7254901960784313\n",
            "error rate : 0.27450980392156865\n"
          ]
        }
      ]
    },
    {
      "cell_type": "markdown",
      "metadata": {
        "id": "NEtv5Q8JGRjX"
      },
      "source": [
        "#### Solution 1.2"
      ]
    },
    {
      "cell_type": "code",
      "source": [
        "from sklearn.metrics import roc_auc_score\n",
        "probs = logreg.predict_proba(X_test)[:,1]\n",
        "probs.shape\n",
        "y_test.shape\n",
        "auc = roc_auc_score(y_test, probs)\n",
        "print(\"Areaa under the Curve: \" +str(auc))"
      ],
      "metadata": {
        "id": "Mno-tMFQTt7t",
        "colab": {
          "base_uri": "https://localhost:8080/"
        },
        "outputId": "e00660b0-7112-4ae3-c7ea-6f1aedccc48e"
      },
      "execution_count": null,
      "outputs": [
        {
          "output_type": "stream",
          "name": "stdout",
          "text": [
            "Areaa under the Curve: 0.7354791200024546\n"
          ]
        }
      ]
    },
    {
      "cell_type": "code",
      "source": [
        "fpr, tpr, _ = metrics.roc_curve(y_test, probs, pos_label=2)\n",
        "\n",
        "# plot the precision-recall curves\n",
        "plt.plot(fpr, tpr, label='Logistic')\n",
        "plt.plot([0, 1], [0, 1], label = 'Random guessing')\n",
        "# axis labels\n",
        "plt.xlabel('Recall')\n",
        "plt.ylabel('Precision')\n",
        "\n",
        "# show the legend\n",
        "plt.legend()\n",
        "\n",
        "# show the plot\n",
        "plt.show()"
      ],
      "metadata": {
        "colab": {
          "base_uri": "https://localhost:8080/",
          "height": 279
        },
        "id": "T2JPEw3o99fk",
        "outputId": "e8cfa0bf-ac6c-440f-b41f-33b0d3b6ef88"
      },
      "execution_count": null,
      "outputs": [
        {
          "output_type": "display_data",
          "data": {
            "text/plain": [
              "<Figure size 432x288 with 1 Axes>"
            ],
            "image/png": "[encoded data removed]"
          },
          "metadata": {
            "needs_background": "light"
          }
        }
      ]
    },
    {
      "cell_type": "markdown",
      "metadata": {
        "id": "W5D_Mn_yGRjY"
      },
      "source": [
        "#### Solution 1.3"
      ]
    },
    {
      "cell_type": "markdown",
      "metadata": {
        "id": "9nl9xbUZGRjY"
      },
      "source": [
        "\n",
        "\n",
        "> TPR true positive raate should be maximum, mainly because this is medical related. It is also known as Sensitivity in medical field. ideally TPR should be 100% but it may lead to overfitting. A TPR of 95% should be effecient enough in my opinion after going through the below references. The optimal threshold on the score\n",
        "\n",
        "Reference 1: https://www.ncbi.nlm.nih.gov/pmc/articles/PMC8156826/#:~:text=Sensitivity%2C%20or%20true%20positive%20rate,have%20the%20condition%20of%20interest\n",
        "\n",
        "Reference 2: https://pubmed.ncbi.nlm.nih.gov/9324013/"
      ]
    },
    {
      "cell_type": "code",
      "source": [
        "from sklearn.metrics import precision_recall_curve\n",
        "from sklearn.metrics import auc\n",
        "# calculate precision-recall curve\n",
        "\n",
        "precision, recall, _= precision_recall_curve(y_test, probs, pos_label=2)\n",
        "auc = auc(recall, precision)\n",
        "print(auc)"
      ],
      "metadata": {
        "id": "BcCIWMv05t-p",
        "colab": {
          "base_uri": "https://localhost:8080/"
        },
        "outputId": "18d131f9-4cdb-4c24-bf98-233af8f9902f"
      },
      "execution_count": null,
      "outputs": [
        {
          "output_type": "stream",
          "name": "stdout",
          "text": [
            "0.4380478760925568\n"
          ]
        }
      ]
    },
    {
      "cell_type": "code",
      "source": [
        "precision, recall, _= precision_recall_curve(y_test, probs, pos_label=2)\n",
        "\n",
        "# plot the precision-recall curves\n",
        "plt.plot(recall, precision, label='Logistic')\n",
        "\n",
        "# axis labels\n",
        "plt.xlabel('Recall')\n",
        "plt.ylabel('Precision')\n",
        "\n",
        "# show the legend\n",
        "plt.legend()\n",
        "\n",
        "# show the plot\n",
        "plt.show()"
      ],
      "metadata": {
        "colab": {
          "base_uri": "https://localhost:8080/",
          "height": 279
        },
        "id": "MYOC7QkH6sBL",
        "outputId": "a5c94055-a8fc-41cd-c5a9-862591659cba"
      },
      "execution_count": null,
      "outputs": [
        {
          "output_type": "display_data",
          "data": {
            "text/plain": [
              "<Figure size 432x288 with 1 Axes>"
            ],
            "image/png": "[encoded data removed]"
          },
          "metadata": {
            "needs_background": "light"
          }
        }
      ]
    },
    {
      "cell_type": "markdown",
      "source": [
        "\n",
        "\n",
        "> ROC curves should be used when there are roughly equal numbers of observations for each class. Precision-Recall curves should be used when there is a moderate to large class imbalance.\n",
        "\n"
      ],
      "metadata": {
        "id": "fccbBEd19Qu4"
      }
    },
    {
      "cell_type": "markdown",
      "source": [
        "PART 2"
      ],
      "metadata": {
        "id": "8jat6-iHpBEi"
      }
    },
    {
      "cell_type": "markdown",
      "metadata": {
        "id": "JBdpBwW1GRjY"
      },
      "source": [
        "\n",
        "**STEPS** \n",
        "\n",
        "\n",
        "Downloaded the ‘Diamonds’ dataset from https://www.kaggle.com/shivam2503/diamonds.\n",
        "Use random seed 633.\n",
        "\n",
        "**2.1.** Started by plotting the scatter plot of price vs carat. Analysed the Relationship\n",
        "\n",
        "**2.2.** Divided the dataset randomly in a 70:30 ratio into a training set and a test set\n",
        "\n",
        "**2.3.** Built a linear regression model on the training data to predict the price of a diamond given its size in carats.\n",
        "\n",
        "* Ploted the regression line. \n",
        "\n",
        "**2.4.** While carat, a measure of the weight of a diamond is an important predictor of its price, it is possible that other variables that are uncorrelated with carat also have some influence. Hence, Experimented with adding such explanatory variables to the model.\n",
        "\n",
        "**2.5.** Applied transformation on the response variable (price) or carat, or both, to help improve regression over the linear model developed in part 4\n",
        "\n",
        "**2.6.** For each sample in the test set, predicted the price using the best model I have, and computed the MAE of the model on the test set.\n",
        "\n",
        "**2.7.** What could be some problems using this model to estimate the price of unseen diamonds 20 years in the future"
      ]
    },
    {
      "cell_type": "markdown",
      "metadata": {
        "id": "FJfJqmmkGRjZ"
      },
      "source": [
        "### Solution"
      ]
    },
    {
      "cell_type": "code",
      "source": [
        "import pandas as pd \n",
        "import numpy as np\n",
        "df = pd.read_csv('diamonds.csv')# input the csv file\n",
        "df.head()"
      ],
      "metadata": {
        "colab": {
          "base_uri": "https://localhost:8080/",
          "height": 206
        },
        "id": "bfP29avtWFaz",
        "outputId": "74923c64-1ae3-497b-a48a-37773548fdaf"
      },
      "execution_count": null,
      "outputs": [
        {
          "output_type": "execute_result",
          "data": {
            "text/plain": [
              "   Unnamed: 0  carat      cut color clarity  depth  table  price     x     y  \\\n",
              "0           1   0.23    Ideal     E     SI2   61.5   55.0    326  3.95  3.98   \n",
              "1           2   0.21  Premium     E     SI1   59.8   61.0    326  3.89  3.84   \n",
              "2           3   0.23     Good     E     VS1   56.9   65.0    327  4.05  4.07   \n",
              "3           4   0.29  Premium     I     VS2   62.4   58.0    334  4.20  4.23   \n",
              "4           5   0.31     Good     J     SI2   63.3   58.0    335  4.34  4.35   \n",
              "\n",
              "      z  \n",
              "0  2.43  \n",
              "1  2.31  \n",
              "2  2.31  \n",
              "3  2.63  \n",
              "4  2.75  "
            ],
            "text/html": [
              "\n",
              "  <div id=\"df-b66f4ec9-d283-4860-bc4d-c5dd1d82b528\">\n",
              "    <div class=\"colab-df-container\">\n",
              "      <div>\n",
              "<style scoped>\n",
              "    .dataframe tbody tr th:only-of-type {\n",
              "        vertical-align: middle;\n",
              "    }\n",
              "\n",
              "    .dataframe tbody tr th {\n",
              "        vertical-align: top;\n",
              "    }\n",
              "\n",
              "    .dataframe thead th {\n",
              "        text-align: right;\n",
              "    }\n",
              "</style>\n",
              "<table border=\"1\" class=\"dataframe\">\n",
              "  <thead>\n",
              "    <tr style=\"text-align: right;\">\n",
              "      <th></th>\n",
              "      <th>Unnamed: 0</th>\n",
              "      <th>carat</th>\n",
              "      <th>cut</th>\n",
              "      <th>color</th>\n",
              "      <th>clarity</th>\n",
              "      <th>depth</th>\n",
              "      <th>table</th>\n",
              "      <th>price</th>\n",
              "      <th>x</th>\n",
              "      <th>y</th>\n",
              "      <th>z</th>\n",
              "    </tr>\n",
              "  </thead>\n",
              "  <tbody>\n",
              "    <tr>\n",
              "      <th>0</th>\n",
              "      <td>1</td>\n",
              "      <td>0.23</td>\n",
              "      <td>Ideal</td>\n",
              "      <td>E</td>\n",
              "      <td>SI2</td>\n",
              "      <td>61.5</td>\n",
              "      <td>55.0</td>\n",
              "      <td>326</td>\n",
              "      <td>3.95</td>\n",
              "      <td>3.98</td>\n",
              "      <td>2.43</td>\n",
              "    </tr>\n",
              "    <tr>\n",
              "      <th>1</th>\n",
              "      <td>2</td>\n",
              "      <td>0.21</td>\n",
              "      <td>Premium</td>\n",
              "      <td>E</td>\n",
              "      <td>SI1</td>\n",
              "      <td>59.8</td>\n",
              "      <td>61.0</td>\n",
              "      <td>326</td>\n",
              "      <td>3.89</td>\n",
              "      <td>3.84</td>\n",
              "      <td>2.31</td>\n",
              "    </tr>\n",
              "    <tr>\n",
              "      <th>2</th>\n",
              "      <td>3</td>\n",
              "      <td>0.23</td>\n",
              "      <td>Good</td>\n",
              "      <td>E</td>\n",
              "      <td>VS1</td>\n",
              "      <td>56.9</td>\n",
              "      <td>65.0</td>\n",
              "      <td>327</td>\n",
              "      <td>4.05</td>\n",
              "      <td>4.07</td>\n",
              "      <td>2.31</td>\n",
              "    </tr>\n",
              "    <tr>\n",
              "      <th>3</th>\n",
              "      <td>4</td>\n",
              "      <td>0.29</td>\n",
              "      <td>Premium</td>\n",
              "      <td>I</td>\n",
              "      <td>VS2</td>\n",
              "      <td>62.4</td>\n",
              "      <td>58.0</td>\n",
              "      <td>334</td>\n",
              "      <td>4.20</td>\n",
              "      <td>4.23</td>\n",
              "      <td>2.63</td>\n",
              "    </tr>\n",
              "    <tr>\n",
              "      <th>4</th>\n",
              "      <td>5</td>\n",
              "      <td>0.31</td>\n",
              "      <td>Good</td>\n",
              "      <td>J</td>\n",
              "      <td>SI2</td>\n",
              "      <td>63.3</td>\n",
              "      <td>58.0</td>\n",
              "      <td>335</td>\n",
              "      <td>4.34</td>\n",
              "      <td>4.35</td>\n",
              "      <td>2.75</td>\n",
              "    </tr>\n",
              "  </tbody>\n",
              "</table>\n",
              "</div>\n",
              "      <button class=\"colab-df-convert\" onclick=\"convertToInteractive('df-b66f4ec9-d283-4860-bc4d-c5dd1d82b528')\"\n",
              "              title=\"Convert this dataframe to an interactive table.\"\n",
              "              style=\"display:none;\">\n",
              "        \n",
              "  <svg xmlns=\"http://www.w3.org/2000/svg\" height=\"24px\"viewBox=\"0 0 24 24\"\n",
              "       width=\"24px\">\n",
              "    <path d=\"M0 0h24v24H0V0z\" fill=\"none\"/>\n",
              "    <path d=\"M18.56 5.44l.94 2.06.94-2.06 2.06-.94-2.06-.94-.94-2.06-.94 2.06-2.06.94zm-11 1L8.5 8.5l.94-2.06 2.06-.94-2.06-.94L8.5 2.5l-.94 2.06-2.06.94zm10 10l.94 2.06.94-2.06 2.06-.94-2.06-.94-.94-2.06-.94 2.06-2.06.94z\"/><path d=\"M17.41 7.96l-1.37-1.37c-.4-.4-.92-.59-1.43-.59-.52 0-1.04.2-1.43.59L10.3 9.45l-7.72 7.72c-.78.78-.78 2.05 0 2.83L4 21.41c.39.39.9.59 1.41.59.51 0 1.02-.2 1.41-.59l7.78-7.78 2.81-2.81c.8-.78.8-2.07 0-2.86zM5.41 20L4 18.59l7.72-7.72 1.47 1.35L5.41 20z\"/>\n",
              "  </svg>\n",
              "      </button>\n",
              "      \n",
              "  <style>\n",
              "    .colab-df-container {\n",
              "      display:flex;\n",
              "      flex-wrap:wrap;\n",
              "      gap: 12px;\n",
              "    }\n",
              "\n",
              "    .colab-df-convert {\n",
              "      background-color: #E8F0FE;\n",
              "      border: none;\n",
              "      border-radius: 50%;\n",
              "      cursor: pointer;\n",
              "      display: none;\n",
              "      fill: #1967D2;\n",
              "      height: 32px;\n",
              "      padding: 0 0 0 0;\n",
              "      width: 32px;\n",
              "    }\n",
              "\n",
              "    .colab-df-convert:hover {\n",
              "      background-color: #E2EBFA;\n",
              "      box-shadow: 0px 1px 2px rgba(60, 64, 67, 0.3), 0px 1px 3px 1px rgba(60, 64, 67, 0.15);\n",
              "      fill: #174EA6;\n",
              "    }\n",
              "\n",
              "    [theme=dark] .colab-df-convert {\n",
              "      background-color: #3B4455;\n",
              "      fill: #D2E3FC;\n",
              "    }\n",
              "\n",
              "    [theme=dark] .colab-df-convert:hover {\n",
              "      background-color: #434B5C;\n",
              "      box-shadow: 0px 1px 3px 1px rgba(0, 0, 0, 0.15);\n",
              "      filter: drop-shadow(0px 1px 2px rgba(0, 0, 0, 0.3));\n",
              "      fill: #FFFFFF;\n",
              "    }\n",
              "  </style>\n",
              "\n",
              "      <script>\n",
              "        const buttonEl =\n",
              "          document.querySelector('#df-b66f4ec9-d283-4860-bc4d-c5dd1d82b528 button.colab-df-convert');\n",
              "        buttonEl.style.display =\n",
              "          google.colab.kernel.accessAllowed ? 'block' : 'none';\n",
              "\n",
              "        async function convertToInteractive(key) {\n",
              "          const element = document.querySelector('#df-b66f4ec9-d283-4860-bc4d-c5dd1d82b528');\n",
              "          const dataTable =\n",
              "            await google.colab.kernel.invokeFunction('convertToInteractive',\n",
              "                                                     [key], {});\n",
              "          if (!dataTable) return;\n",
              "\n",
              "          const docLinkHtml = 'Like what you see? Visit the ' +\n",
              "            '<a target=\"_blank\" href=https://colab.research.google.com/notebooks/data_table.ipynb>data table notebook</a>'\n",
              "            + ' to learn more about interactive tables.';\n",
              "          element.innerHTML = '';\n",
              "          dataTable['output_type'] = 'display_data';\n",
              "          await google.colab.output.renderOutput(dataTable, element);\n",
              "          const docLink = document.createElement('div');\n",
              "          docLink.innerHTML = docLinkHtml;\n",
              "          element.appendChild(docLink);\n",
              "        }\n",
              "      </script>\n",
              "    </div>\n",
              "  </div>\n",
              "  "
            ]
          },
          "metadata": {},
          "execution_count": 41
        }
      ]
    },
    {
      "cell_type": "markdown",
      "metadata": {
        "id": "QsUP6YuOGRjZ"
      },
      "source": [
        "#### Solution 2.1"
      ]
    },
    {
      "cell_type": "code",
      "source": [
        "print(\"Min price: \"+ str(df.price.min()))\n",
        "print(\"Max price: \"+ str(df.price.max()))"
      ],
      "metadata": {
        "colab": {
          "base_uri": "https://localhost:8080/"
        },
        "id": "8C8Eaw6lWePZ",
        "outputId": "ec0161ca-3e43-450c-ef33-724c48a5a09b"
      },
      "execution_count": null,
      "outputs": [
        {
          "output_type": "stream",
          "name": "stdout",
          "text": [
            "Min price: 326\n",
            "Max price: 18823\n"
          ]
        }
      ]
    },
    {
      "cell_type": "code",
      "source": [
        "import matplotlib.pyplot as plt\n",
        "s = plt.scatter(df.price,df.carat)\n",
        "plt.title('Scatter Plot')\n",
        "plt.xlabel('Price')\n",
        "plt.ylabel('Carat')"
      ],
      "metadata": {
        "colab": {
          "base_uri": "https://localhost:8080/",
          "height": 312
        },
        "id": "Cgf6XBozWQIb",
        "outputId": "c64609d6-3c17-4d5e-dad4-8d8dd37fa9fe"
      },
      "execution_count": null,
      "outputs": [
        {
          "output_type": "execute_result",
          "data": {
            "text/plain": [
              "Text(0, 0.5, 'Carat')"
            ]
          },
          "metadata": {},
          "execution_count": 43
        },
        {
          "output_type": "display_data",
          "data": {
            "text/plain": [
              "<Figure size 432x288 with 1 Axes>"
            ],
            "image/png": "[encoded data removed]"
          },
          "metadata": {
            "needs_background": "light"
          }
        }
      ]
    },
    {
      "cell_type": "markdown",
      "source": [
        "\n",
        "\n",
        "> As the price increases the carat of diamond of also increases or we can say that inversely too, as the carat increases the price also increases.\n",
        "\n"
      ],
      "metadata": {
        "id": "N06Ps0RSXoQD"
      }
    },
    {
      "cell_type": "code",
      "source": [
        "from sklearn import preprocessing\n",
        "  \n",
        "# label_encoder object knows how to understand word labels.\n",
        "label_encoder = preprocessing.LabelEncoder()\n",
        "\n",
        "\n",
        "# Encode labels in categorical column.\n",
        "df['cut'] = label_encoder.fit_transform(df['cut'])\n",
        "df['cut'].unique()\n",
        "df['clarity'] = label_encoder.fit_transform(df['clarity'])\n",
        "df['clarity'].unique()\n",
        "df['color'] = label_encoder.fit_transform(df['color'])\n",
        "df['color'].unique()"
      ],
      "metadata": {
        "id": "hZn59vnzWSby",
        "colab": {
          "base_uri": "https://localhost:8080/"
        },
        "outputId": "5b20f4e2-f786-4abe-f4e2-8befe0bccb96"
      },
      "execution_count": null,
      "outputs": [
        {
          "output_type": "execute_result",
          "data": {
            "text/plain": [
              "array([1, 5, 6, 4, 2, 3, 0])"
            ]
          },
          "metadata": {},
          "execution_count": 44
        }
      ]
    },
    {
      "cell_type": "code",
      "source": [
        "df.head()"
      ],
      "metadata": {
        "colab": {
          "base_uri": "https://localhost:8080/",
          "height": 206
        },
        "id": "u2qkFU6htBYs",
        "outputId": "92e1a7fd-5af3-48b8-c4a4-ae14b86ca088"
      },
      "execution_count": null,
      "outputs": [
        {
          "output_type": "execute_result",
          "data": {
            "text/plain": [
              "   Unnamed: 0  carat  cut  color  clarity  depth  table  price     x     y  \\\n",
              "0           1   0.23    2      1        3   61.5   55.0    326  3.95  3.98   \n",
              "1           2   0.21    3      1        2   59.8   61.0    326  3.89  3.84   \n",
              "2           3   0.23    1      1        4   56.9   65.0    327  4.05  4.07   \n",
              "3           4   0.29    3      5        5   62.4   58.0    334  4.20  4.23   \n",
              "4           5   0.31    1      6        3   63.3   58.0    335  4.34  4.35   \n",
              "\n",
              "      z  \n",
              "0  2.43  \n",
              "1  2.31  \n",
              "2  2.31  \n",
              "3  2.63  \n",
              "4  2.75  "
            ],
            "text/html": [
              "\n",
              "  <div id=\"df-5db2db61-9c84-426d-b519-842c9a7264bc\">\n",
              "    <div class=\"colab-df-container\">\n",
              "      <div>\n",
              "<style scoped>\n",
              "    .dataframe tbody tr th:only-of-type {\n",
              "        vertical-align: middle;\n",
              "    }\n",
              "\n",
              "    .dataframe tbody tr th {\n",
              "        vertical-align: top;\n",
              "    }\n",
              "\n",
              "    .dataframe thead th {\n",
              "        text-align: right;\n",
              "    }\n",
              "</style>\n",
              "<table border=\"1\" class=\"dataframe\">\n",
              "  <thead>\n",
              "    <tr style=\"text-align: right;\">\n",
              "      <th></th>\n",
              "      <th>Unnamed: 0</th>\n",
              "      <th>carat</th>\n",
              "      <th>cut</th>\n",
              "      <th>color</th>\n",
              "      <th>clarity</th>\n",
              "      <th>depth</th>\n",
              "      <th>table</th>\n",
              "      <th>price</th>\n",
              "      <th>x</th>\n",
              "      <th>y</th>\n",
              "      <th>z</th>\n",
              "    </tr>\n",
              "  </thead>\n",
              "  <tbody>\n",
              "    <tr>\n",
              "      <th>0</th>\n",
              "      <td>1</td>\n",
              "      <td>0.23</td>\n",
              "      <td>2</td>\n",
              "      <td>1</td>\n",
              "      <td>3</td>\n",
              "      <td>61.5</td>\n",
              "      <td>55.0</td>\n",
              "      <td>326</td>\n",
              "      <td>3.95</td>\n",
              "      <td>3.98</td>\n",
              "      <td>2.43</td>\n",
              "    </tr>\n",
              "    <tr>\n",
              "      <th>1</th>\n",
              "      <td>2</td>\n",
              "      <td>0.21</td>\n",
              "      <td>3</td>\n",
              "      <td>1</td>\n",
              "      <td>2</td>\n",
              "      <td>59.8</td>\n",
              "      <td>61.0</td>\n",
              "      <td>326</td>\n",
              "      <td>3.89</td>\n",
              "      <td>3.84</td>\n",
              "      <td>2.31</td>\n",
              "    </tr>\n",
              "    <tr>\n",
              "      <th>2</th>\n",
              "      <td>3</td>\n",
              "      <td>0.23</td>\n",
              "      <td>1</td>\n",
              "      <td>1</td>\n",
              "      <td>4</td>\n",
              "      <td>56.9</td>\n",
              "      <td>65.0</td>\n",
              "      <td>327</td>\n",
              "      <td>4.05</td>\n",
              "      <td>4.07</td>\n",
              "      <td>2.31</td>\n",
              "    </tr>\n",
              "    <tr>\n",
              "      <th>3</th>\n",
              "      <td>4</td>\n",
              "      <td>0.29</td>\n",
              "      <td>3</td>\n",
              "      <td>5</td>\n",
              "      <td>5</td>\n",
              "      <td>62.4</td>\n",
              "      <td>58.0</td>\n",
              "      <td>334</td>\n",
              "      <td>4.20</td>\n",
              "      <td>4.23</td>\n",
              "      <td>2.63</td>\n",
              "    </tr>\n",
              "    <tr>\n",
              "      <th>4</th>\n",
              "      <td>5</td>\n",
              "      <td>0.31</td>\n",
              "      <td>1</td>\n",
              "      <td>6</td>\n",
              "      <td>3</td>\n",
              "      <td>63.3</td>\n",
              "      <td>58.0</td>\n",
              "      <td>335</td>\n",
              "      <td>4.34</td>\n",
              "      <td>4.35</td>\n",
              "      <td>2.75</td>\n",
              "    </tr>\n",
              "  </tbody>\n",
              "</table>\n",
              "</div>\n",
              "      <button class=\"colab-df-convert\" onclick=\"convertToInteractive('df-5db2db61-9c84-426d-b519-842c9a7264bc')\"\n",
              "              title=\"Convert this dataframe to an interactive table.\"\n",
              "              style=\"display:none;\">\n",
              "        \n",
              "  <svg xmlns=\"http://www.w3.org/2000/svg\" height=\"24px\"viewBox=\"0 0 24 24\"\n",
              "       width=\"24px\">\n",
              "    <path d=\"M0 0h24v24H0V0z\" fill=\"none\"/>\n",
              "    <path d=\"M18.56 5.44l.94 2.06.94-2.06 2.06-.94-2.06-.94-.94-2.06-.94 2.06-2.06.94zm-11 1L8.5 8.5l.94-2.06 2.06-.94-2.06-.94L8.5 2.5l-.94 2.06-2.06.94zm10 10l.94 2.06.94-2.06 2.06-.94-2.06-.94-.94-2.06-.94 2.06-2.06.94z\"/><path d=\"M17.41 7.96l-1.37-1.37c-.4-.4-.92-.59-1.43-.59-.52 0-1.04.2-1.43.59L10.3 9.45l-7.72 7.72c-.78.78-.78 2.05 0 2.83L4 21.41c.39.39.9.59 1.41.59.51 0 1.02-.2 1.41-.59l7.78-7.78 2.81-2.81c.8-.78.8-2.07 0-2.86zM5.41 20L4 18.59l7.72-7.72 1.47 1.35L5.41 20z\"/>\n",
              "  </svg>\n",
              "      </button>\n",
              "      \n",
              "  <style>\n",
              "    .colab-df-container {\n",
              "      display:flex;\n",
              "      flex-wrap:wrap;\n",
              "      gap: 12px;\n",
              "    }\n",
              "\n",
              "    .colab-df-convert {\n",
              "      background-color: #E8F0FE;\n",
              "      border: none;\n",
              "      border-radius: 50%;\n",
              "      cursor: pointer;\n",
              "      display: none;\n",
              "      fill: #1967D2;\n",
              "      height: 32px;\n",
              "      padding: 0 0 0 0;\n",
              "      width: 32px;\n",
              "    }\n",
              "\n",
              "    .colab-df-convert:hover {\n",
              "      background-color: #E2EBFA;\n",
              "      box-shadow: 0px 1px 2px rgba(60, 64, 67, 0.3), 0px 1px 3px 1px rgba(60, 64, 67, 0.15);\n",
              "      fill: #174EA6;\n",
              "    }\n",
              "\n",
              "    [theme=dark] .colab-df-convert {\n",
              "      background-color: #3B4455;\n",
              "      fill: #D2E3FC;\n",
              "    }\n",
              "\n",
              "    [theme=dark] .colab-df-convert:hover {\n",
              "      background-color: #434B5C;\n",
              "      box-shadow: 0px 1px 3px 1px rgba(0, 0, 0, 0.15);\n",
              "      filter: drop-shadow(0px 1px 2px rgba(0, 0, 0, 0.3));\n",
              "      fill: #FFFFFF;\n",
              "    }\n",
              "  </style>\n",
              "\n",
              "      <script>\n",
              "        const buttonEl =\n",
              "          document.querySelector('#df-5db2db61-9c84-426d-b519-842c9a7264bc button.colab-df-convert');\n",
              "        buttonEl.style.display =\n",
              "          google.colab.kernel.accessAllowed ? 'block' : 'none';\n",
              "\n",
              "        async function convertToInteractive(key) {\n",
              "          const element = document.querySelector('#df-5db2db61-9c84-426d-b519-842c9a7264bc');\n",
              "          const dataTable =\n",
              "            await google.colab.kernel.invokeFunction('convertToInteractive',\n",
              "                                                     [key], {});\n",
              "          if (!dataTable) return;\n",
              "\n",
              "          const docLinkHtml = 'Like what you see? Visit the ' +\n",
              "            '<a target=\"_blank\" href=https://colab.research.google.com/notebooks/data_table.ipynb>data table notebook</a>'\n",
              "            + ' to learn more about interactive tables.';\n",
              "          element.innerHTML = '';\n",
              "          dataTable['output_type'] = 'display_data';\n",
              "          await google.colab.output.renderOutput(dataTable, element);\n",
              "          const docLink = document.createElement('div');\n",
              "          docLink.innerHTML = docLinkHtml;\n",
              "          element.appendChild(docLink);\n",
              "        }\n",
              "      </script>\n",
              "    </div>\n",
              "  </div>\n",
              "  "
            ]
          },
          "metadata": {},
          "execution_count": 45
        }
      ]
    },
    {
      "cell_type": "markdown",
      "metadata": {
        "id": "WM3pnWXFGRjZ"
      },
      "source": [
        "#### Solution 2.2"
      ]
    },
    {
      "cell_type": "code",
      "source": [
        "# Splitting the dataset into training and test sets in the ratio 70:30\n",
        "x = np.array(df.carat).reshape(-1, 1)\n",
        "y = np.array(df.price).reshape(-1, 1)\n",
        "from sklearn.model_selection import train_test_split\n",
        "\n",
        "x_train, x_test, y_train, y_test = train_test_split(x,y, test_size= 0.3, random_state = 633)"
      ],
      "metadata": {
        "id": "HDuMLD2jWcVd"
      },
      "execution_count": null,
      "outputs": []
    },
    {
      "cell_type": "markdown",
      "metadata": {
        "id": "LLQXKfR7GRja"
      },
      "source": [
        "#### Solution 2.3"
      ]
    },
    {
      "cell_type": "code",
      "source": [
        "# Training the data using LinearRegression\n",
        "\n",
        "from sklearn.metrics import r2_score, mean_squared_error\n",
        "from sklearn.linear_model import LinearRegression\n",
        "regr = LinearRegression()\n",
        "model = regr.fit(x_train, y_train)\n",
        "y_pred = model.predict(x_test)"
      ],
      "metadata": {
        "id": "pMEZIzMsWgYe"
      },
      "execution_count": null,
      "outputs": []
    },
    {
      "cell_type": "code",
      "source": [
        "# Plotting the regression line\n",
        "\n",
        "plt.scatter(x_train,y_train)\n",
        "plt.plot(x_test, y_pred, color=\"red\")\n",
        "plt.show()"
      ],
      "metadata": {
        "colab": {
          "base_uri": "https://localhost:8080/",
          "height": 265
        },
        "id": "kGnyL4-5WkRS",
        "outputId": "b0fc0a24-732d-4b73-e914-f2ed9031a020"
      },
      "execution_count": null,
      "outputs": [
        {
          "output_type": "display_data",
          "data": {
            "text/plain": [
              "<Figure size 432x288 with 1 Axes>"
            ],
            "image/png": "[encoded data removed]"
          },
          "metadata": {
            "needs_background": "light"
          }
        }
      ]
    },
    {
      "cell_type": "code",
      "source": [
        "# Coeffecient of Determination. between 0 and 1\n",
        "\n",
        "cod= r2_score(y_test,y_pred)\n",
        "print(cod)"
      ],
      "metadata": {
        "colab": {
          "base_uri": "https://localhost:8080/"
        },
        "id": "6NOqcMnFWnel",
        "outputId": "b47cc6c4-09eb-44e7-9c98-3f94acd96554"
      },
      "execution_count": null,
      "outputs": [
        {
          "output_type": "stream",
          "name": "stdout",
          "text": [
            "0.8485420619811271\n"
          ]
        }
      ]
    },
    {
      "cell_type": "code",
      "source": [
        "# Mean absolute error\n",
        "\n",
        "from sklearn.metrics import mean_absolute_error as mae \n",
        "mean_abs_error=(mae(y_test,y_pred))\n",
        "print(mean_abs_error)"
      ],
      "metadata": {
        "colab": {
          "base_uri": "https://localhost:8080/"
        },
        "id": "guRwNWmWWpL9",
        "outputId": "ebc52130-c660-4df3-8ad7-156ac63e5786"
      },
      "execution_count": null,
      "outputs": [
        {
          "output_type": "stream",
          "name": "stdout",
          "text": [
            "1005.143117749581\n"
          ]
        }
      ]
    },
    {
      "cell_type": "code",
      "source": [
        "# MSE(Mean Squared Error) and RMSE (Root Mean Square Error)\n",
        "\n",
        "from math import sqrt\n",
        "from sklearn.metrics import mean_squared_error as mse\n",
        "MSE = mse(y_test,y_pred)\n",
        "RMSE = sqrt(MSE)\n",
        "print(MSE)\n",
        "print(RMSE)"
      ],
      "metadata": {
        "colab": {
          "base_uri": "https://localhost:8080/"
        },
        "id": "189armT_WwPx",
        "outputId": "a2839575-da0a-46bf-a8b9-987f1b854be1"
      },
      "execution_count": null,
      "outputs": [
        {
          "output_type": "stream",
          "name": "stdout",
          "text": [
            "2408922.074995888\n",
            "1552.0702545297002\n"
          ]
        }
      ]
    },
    {
      "cell_type": "markdown",
      "metadata": {
        "id": "wJV2qNeeGRja"
      },
      "source": [
        "#### Solution 2.4"
      ]
    },
    {
      "cell_type": "code",
      "source": [
        "import seaborn as sns\n",
        "import matplotlib.pyplot as plt\n",
        "\n",
        "\n",
        "matrix = df.corr().round(2)\n",
        "sns.heatmap(matrix, annot=True)\n",
        "plt.show()"
      ],
      "metadata": {
        "colab": {
          "base_uri": "https://localhost:8080/",
          "height": 320
        },
        "id": "IVjz-C_U4zEK",
        "outputId": "ae19d103-5ebb-4944-c615-4e55cbe6a282"
      },
      "execution_count": null,
      "outputs": [
        {
          "output_type": "display_data",
          "data": {
            "text/plain": [
              "<Figure size 432x288 with 2 Axes>"
            ],
            "image/png": "[encoded data removed]"
          },
          "metadata": {
            "needs_background": "light"
          }
        }
      ]
    },
    {
      "cell_type": "markdown",
      "source": [
        "X,Y AND Z are highly corelated to carrat so thay will give better COD."
      ],
      "metadata": {
        "id": "qxXoIf4N5kLk"
      }
    },
    {
      "cell_type": "markdown",
      "source": [
        "**CUT as predictor**"
      ],
      "metadata": {
        "id": "k6ZtfZ9cxGCR"
      }
    },
    {
      "cell_type": "code",
      "execution_count": null,
      "metadata": {
        "id": "EWU9xnCjGRja"
      },
      "outputs": [],
      "source": [
        "x1 = np.array(df.carat).reshape(-1, 1)\n",
        "y1 = np.array(df.cut).reshape(-1, 1)\n",
        "from sklearn.model_selection import train_test_split\n",
        "\n",
        "x1_train, x1_test, y1_train, y1_test = train_test_split(x1,y1, test_size= 0.3, random_state = 633)"
      ]
    },
    {
      "cell_type": "code",
      "source": [
        "regr_cut = LinearRegression()\n",
        "model_cut = regr_cut.fit(x1_train, y1_train)\n",
        "y_pred_cut = model_cut.predict(x1_test)"
      ],
      "metadata": {
        "id": "_uSiNN3BsPKu"
      },
      "execution_count": null,
      "outputs": []
    },
    {
      "cell_type": "code",
      "source": [
        "cod_cut= r2_score(y1_test,y_pred_cut)\n",
        "print(\"COD for cut\" + str(cod_cut))"
      ],
      "metadata": {
        "id": "TT3KZUR-wrUx",
        "colab": {
          "base_uri": "https://localhost:8080/"
        },
        "outputId": "dcb785de-0248-48ce-a54f-df20b5daf054"
      },
      "execution_count": null,
      "outputs": [
        {
          "output_type": "stream",
          "name": "stdout",
          "text": [
            "COD for cut0.00013976494798884076\n"
          ]
        }
      ]
    },
    {
      "cell_type": "markdown",
      "source": [
        "**COLOR AS PREDICTOR**"
      ],
      "metadata": {
        "id": "QtqwtWnf2elO"
      }
    },
    {
      "cell_type": "code",
      "source": [
        "x7= np.array(df.carat).reshape(-1, 1)\n",
        "y7 = np.array(df.color).reshape(-1, 1)\n",
        "from sklearn.model_selection import train_test_split\n",
        "\n",
        "x7_train, x7_test, y7_train, y7_test = train_test_split(x7,y7, test_size= 0.3, random_state = 633)\n",
        "regr_color= LinearRegression()\n",
        "model_color = regr_color.fit(x7_train, y7_train)\n",
        "y_pred_color = model_color.predict(x7_test)\n",
        "\n",
        "cod_color= r2_score(y7_test,y_pred_color)\n",
        "print(cod_color)"
      ],
      "metadata": {
        "colab": {
          "base_uri": "https://localhost:8080/"
        },
        "id": "LI6zej2e0-w8",
        "outputId": "3e8afdc6-99e4-42f5-cfe6-5be27cab7c71"
      },
      "execution_count": null,
      "outputs": [
        {
          "output_type": "stream",
          "name": "stdout",
          "text": [
            "0.08023315687053345\n"
          ]
        }
      ]
    },
    {
      "cell_type": "markdown",
      "source": [
        "**CLARITY AS PREDICTOR**"
      ],
      "metadata": {
        "id": "NyPNodpG2qxZ"
      }
    },
    {
      "cell_type": "code",
      "source": [
        "x3 = np.array(df.carat).reshape(-1, 1)\n",
        "y3 = np.array(df.clarity).reshape(-1, 1)\n",
        "from sklearn.model_selection import train_test_split\n",
        "\n",
        "x3_train, x3_test, y3_train, y3_test = train_test_split(x3,y3, test_size= 0.3, random_state = 633)\n",
        "regr_clarity= LinearRegression()\n",
        "model_clarity = regr_clarity.fit(x3_train, y3_train)\n",
        "y_pred_clarity = model_clarity.predict(x3_test)\n",
        "\n",
        "cod_clarity= r2_score(y3_test,y_pred_clarity)\n",
        "print(cod_clarity)"
      ],
      "metadata": {
        "colab": {
          "base_uri": "https://localhost:8080/"
        },
        "id": "zOLzYqYCyECV",
        "outputId": "f6632f9f-5b61-4817-dd55-e6426fe767f6"
      },
      "execution_count": null,
      "outputs": [
        {
          "output_type": "stream",
          "name": "stdout",
          "text": [
            "0.04429019325531214\n"
          ]
        }
      ]
    },
    {
      "cell_type": "markdown",
      "source": [
        "**DEPTH AS PREDICTOR**"
      ],
      "metadata": {
        "id": "QMqNoBEnxRPa"
      }
    },
    {
      "cell_type": "code",
      "source": [
        "x2 = np.array(df.carat).reshape(-1, 1)\n",
        "y2 = np.array(df.depth).reshape(-1, 1)\n",
        "from sklearn.model_selection import train_test_split\n",
        "\n",
        "x2_train, x2_test, y2_train, y2_test = train_test_split(x2,y2, test_size= 0.3, random_state = 633)\n",
        "regr_depth = LinearRegression()\n",
        "model_depth = regr_depth.fit(x2_train, y2_train)\n",
        "y_pred_depth = model_depth.predict(x2_test)\n",
        "\n",
        "cod_depth= r2_score(y2_test,y_pred_depth)\n",
        "print(cod_depth)"
      ],
      "metadata": {
        "colab": {
          "base_uri": "https://localhost:8080/"
        },
        "id": "Pn8zAKMIxiQX",
        "outputId": "71e8fd25-90ec-4adc-9707-72deb99317d1"
      },
      "execution_count": null,
      "outputs": [
        {
          "output_type": "stream",
          "name": "stdout",
          "text": [
            "-9.470093184171802e-05\n"
          ]
        }
      ]
    },
    {
      "cell_type": "code",
      "source": [
        "'''from matplotlib.cbook import IgnoredKeywordWarning\n",
        "# precision-recall curve and f1\n",
        "from sklearn.datasets import make_classification\n",
        "from sklearn.linear_model import LogisticRegression\n",
        "from sklearn.model_selection import train_test_split\n",
        "from sklearn.metrics import precision_recall_curve\n",
        "from sklearn.metrics import f1_score\n",
        "from sklearn.metrics import auc\n",
        "from matplotlib import pyplot\n",
        "\n",
        "\n",
        "# split into train/test sets\n",
        "trainX, testX, trainy, testy = train_test_split(X, y, test_size=0.5, random_state=2)\n",
        "# fit a model\n",
        "model = LogisticRegression()\n",
        "model.fit(trainX, trainy)\n",
        "# predict probabilities\n",
        "lr_probs = model.predict_proba(testX)\n",
        "# keep probabilities for the positive outcome only\n",
        "lr_probs = lr_probs[:, 1]\n",
        "# predict class values\n",
        "yhat = model.predict(testX)\n",
        "\n",
        "\n",
        "# summarize scores\n",
        "print('Logistic: f1=%.3f auc=%.3f' % (lr_f1, lr_auc))\n",
        "# plot the precision-recall curves\n",
        "no_skill = len(testy[testy==1]) / len(testy)\n",
        "pyplot.plot([0, 1], [no_skill, no_skill], linestyle='--', label='No Skill')\n",
        "pyplot.plot(lr_recall, lr_precision, marker='.', label='Logistic')\n",
        "# axis labels\n",
        "pyplot.xlabel('Recall')\n",
        "pyplot.ylabel('Precision')\n",
        "# show the legend\n",
        "pyplot.legend()\n",
        "# show the plot\n",
        "pyplot.show()'''"
      ],
      "metadata": {
        "id": "lRnDm3QfxSwO"
      },
      "execution_count": null,
      "outputs": []
    },
    {
      "cell_type": "markdown",
      "source": [
        "**X AS PREDICTOR**"
      ],
      "metadata": {
        "id": "0y-1ZUU720-B"
      }
    },
    {
      "cell_type": "code",
      "source": [
        "x4 = np.array(df.carat).reshape(-1, 1)\n",
        "y4 = np.array(df.x).reshape(-1, 1)\n",
        "from sklearn.model_selection import train_test_split\n",
        "\n",
        "x4_train, x4_test, y4_train, y4_test = train_test_split(x4,y4, test_size= 0.3, random_state = 633)\n",
        "regr_x= LinearRegression()\n",
        "model_x = regr_x.fit(x4_train, y4_train)\n",
        "y_pred_x = model_x.predict(x4_test)\n",
        "\n",
        "cod_x= r2_score(y4_test,y_pred_x)\n",
        "print(cod_x)"
      ],
      "metadata": {
        "colab": {
          "base_uri": "https://localhost:8080/"
        },
        "id": "jqiKjIZHymum",
        "outputId": "281afb25-ae43-41dd-9423-184cff56a8f3"
      },
      "execution_count": null,
      "outputs": [
        {
          "output_type": "stream",
          "name": "stdout",
          "text": [
            "0.9477751851060315\n"
          ]
        }
      ]
    },
    {
      "cell_type": "markdown",
      "source": [
        "**TABLE AS PREDICTOR**"
      ],
      "metadata": {
        "id": "Gk5cM6cv26l6"
      }
    },
    {
      "cell_type": "code",
      "source": [
        "x5 = np.array(df.carat).reshape(-1, 1)\n",
        "y5 = np.array(df.table).reshape(-1, 1)\n",
        "from sklearn.model_selection import train_test_split\n",
        "\n",
        "x5_train, x5_test, y5_train, y5_test = train_test_split(x5,y5, test_size= 0.3, random_state = 633)\n",
        "regr_table= LinearRegression()\n",
        "model_table = regr_table.fit(x5_train, y5_train)\n",
        "y_pred_table = model_table.predict(x5_test)\n",
        "\n",
        "cod_table= r2_score(y5_test,y_pred_table)\n",
        "print(cod_table)"
      ],
      "metadata": {
        "colab": {
          "base_uri": "https://localhost:8080/"
        },
        "id": "pXvWHHEKz4xo",
        "outputId": "a074554a-f683-4a56-a2b0-5a201002be59"
      },
      "execution_count": null,
      "outputs": [
        {
          "output_type": "stream",
          "name": "stdout",
          "text": [
            "0.03706306611484478\n"
          ]
        }
      ]
    },
    {
      "cell_type": "markdown",
      "source": [
        "**Y AS PREDICTOR**"
      ],
      "metadata": {
        "id": "FWx04ix83Dg5"
      }
    },
    {
      "cell_type": "code",
      "source": [
        "x6= np.array(df.carat).reshape(-1, 1)\n",
        "y6 = np.array(df.y).reshape(-1, 1)\n",
        "from sklearn.model_selection import train_test_split\n",
        "\n",
        "x6_train, x6_test, y6_train, y6_test = train_test_split(x6,y6, test_size= 0.3, random_state = 633)\n",
        "regr_y= LinearRegression()\n",
        "model_y = regr_y.fit(x6_train, y6_train)\n",
        "y_pred_y = model_y.predict(x6_test)\n",
        "\n",
        "cod_y= r2_score(y6_test,y_pred_y)\n",
        "print(cod_y)"
      ],
      "metadata": {
        "colab": {
          "base_uri": "https://localhost:8080/"
        },
        "id": "SlwGFWP40jn6",
        "outputId": "67cbf11f-9d64-4867-82c2-27e202d0a9c1"
      },
      "execution_count": null,
      "outputs": [
        {
          "output_type": "stream",
          "name": "stdout",
          "text": [
            "0.9481158703449367\n"
          ]
        }
      ]
    },
    {
      "cell_type": "markdown",
      "source": [
        "**Z AS PREDICTOR**"
      ],
      "metadata": {
        "id": "bgqMfR233JT_"
      }
    },
    {
      "cell_type": "code",
      "source": [
        "x8= np.array(df.carat).reshape(-1, 1)\n",
        "y8 = np.array(df.z).reshape(-1, 1)\n",
        "from sklearn.model_selection import train_test_split\n",
        "\n",
        "x8_train, x8_test, y8_train, y8_test = train_test_split(x8,y8, test_size= 0.3, random_state = 633)\n",
        "regr_z= LinearRegression()\n",
        "model_z = regr_z.fit(x8_train, y8_train)\n",
        "y_pred_z = model_z.predict(x8_test)\n",
        "\n",
        "cod_z= r2_score(y8_test,y_pred_z)\n",
        "print(cod_z)"
      ],
      "metadata": {
        "colab": {
          "base_uri": "https://localhost:8080/"
        },
        "id": "5fK4zn2V1sYs",
        "outputId": "0970966c-1eee-4091-cccd-8825c01eb30d"
      },
      "execution_count": null,
      "outputs": [
        {
          "output_type": "stream",
          "name": "stdout",
          "text": [
            "0.9394102788602545\n"
          ]
        }
      ]
    },
    {
      "cell_type": "code",
      "source": [
        "print(\"Coefficient of Determination Carat vs Price: \"+ str(cod))\n",
        "print(\"\\nCoefficient of Determination Cut vs Price: \"+ str(cod_cut))\n",
        "print(\"Coefficient of Determination Color vs Price: \"+ str(cod_color))\n",
        "print(\"Coefficient of Determination Clarity vs Price: \"+ str(cod_clarity))\n",
        "print(\"Coefficient of Determination Depth vs Price: \"+ str(cod_depth))\n",
        "print(\"Coefficient of Determination Table vs Price: \"+ str(cod_table))\n",
        "print(\"Coefficient of Determination X vs Price: \"+ str(cod_x))\n",
        "print(\"Coefficient of Determination Y vs Price: \"+ str(cod_y))\n",
        "print(\"Coefficient of Determination Z vs Price: \"+ str(cod_z))"
      ],
      "metadata": {
        "colab": {
          "base_uri": "https://localhost:8080/"
        },
        "id": "BR6x28NZy5PT",
        "outputId": "7ecf0a4c-9e80-47cf-99ef-e0cc7edf739d"
      },
      "execution_count": null,
      "outputs": [
        {
          "output_type": "stream",
          "name": "stdout",
          "text": [
            "Coefficient of Determination Carat vs Price: 0.8485420619811271\n",
            "\n",
            "Coefficient of Determination Cut vs Price: 0.00013976494798884076\n",
            "Coefficient of Determination Color vs Price: 0.08023315687053345\n",
            "Coefficient of Determination Clarity vs Price: 0.04429019325531214\n",
            "Coefficient of Determination Depth vs Price: -9.470093184171802e-05\n",
            "Coefficient of Determination Table vs Price: 0.03706306611484478\n",
            "Coefficient of Determination X vs Price: 0.9477751851060315\n",
            "Coefficient of Determination Y vs Price: 0.9481158703449367\n",
            "Coefficient of Determination Z vs Price: 0.9394102788602545\n"
          ]
        }
      ]
    },
    {
      "cell_type": "markdown",
      "source": [
        "The Coefficient of Determination reduses drastically for 'depth' and is very low for 'cut','color','clarity','depth','table' as well. Whereas it is higher for 'X','Y','Z'; Y being the highest."
      ],
      "metadata": {
        "id": "ReEJTMqDzg2J"
      }
    },
    {
      "cell_type": "markdown",
      "metadata": {
        "id": "iJYRftWGGRja"
      },
      "source": [
        "#### Solution 2.5"
      ]
    },
    {
      "cell_type": "code",
      "source": [
        "x = np.sqrt(np.array(df.carat).reshape(-1, 1))\n",
        "y = np.sqrt(np.array(df.price).reshape(-1, 1))\n",
        "from sklearn.model_selection import train_test_split\n",
        "\n",
        "x_train, x_test, y_train, y_test = train_test_split(x,y, test_size= 0.3, random_state = 633)\n",
        "model = regr.fit(x_train, y_train)\n",
        "y_pred = model.predict(x_test)\n",
        "plt.scatter(x_train,y_train)\n",
        "plt.plot(x_test, y_pred, color=\"red\")\n",
        "MSE_square = mse(y_test,y_pred)\n",
        "print(MSE_square)\n",
        "plt.show()"
      ],
      "metadata": {
        "id": "q-6MPCUQW92H",
        "colab": {
          "base_uri": "https://localhost:8080/",
          "height": 285
        },
        "outputId": "fbfd092d-87bf-43b8-a8dc-ba435c1fbba9"
      },
      "execution_count": null,
      "outputs": [
        {
          "output_type": "stream",
          "name": "stdout",
          "text": [
            "77.83050776319809\n"
          ]
        },
        {
          "output_type": "display_data",
          "data": {
            "text/plain": [
              "<Figure size 432x288 with 1 Axes>"
            ],
            "image/png": "[encoded data removed]"
          },
          "metadata": {
            "needs_background": "light"
          }
        }
      ]
    },
    {
      "cell_type": "code",
      "source": [
        "x_log = np.log(np.array(df.carat).reshape(-1, 1))\n",
        "y_log = np.log(np.array(df.price).reshape(-1, 1))\n",
        "from sklearn.model_selection import train_test_split\n",
        "\n",
        "x_log_train, x_log_test, y_log_train, y_log_test = train_test_split(x_log,y_log, test_size= 0.3, random_state = 633)\n",
        "model = regr.fit(x_log_train, y_log_train)\n",
        "y_log_pred = model.predict(x_log_test)\n",
        "plt.scatter(x_log_train,y_log_train)\n",
        "plt.plot(x_log_test, y_log_pred, color=\"red\")\n",
        "MSE_log = mse(y_log_test,y_log_pred)\n",
        "print(MSE_log)\n",
        "plt.show()"
      ],
      "metadata": {
        "id": "5EnJ-javXBoG",
        "colab": {
          "base_uri": "https://localhost:8080/",
          "height": 282
        },
        "outputId": "368d0f25-06cb-40ce-e249-ba67ef9f8259"
      },
      "execution_count": null,
      "outputs": [
        {
          "output_type": "stream",
          "name": "stdout",
          "text": [
            "0.06902266941097827\n"
          ]
        },
        {
          "output_type": "display_data",
          "data": {
            "text/plain": [
              "<Figure size 432x288 with 1 Axes>"
            ],
            "image/png": "[encoded data removed]"
          },
          "metadata": {
            "needs_background": "light"
          }
        }
      ]
    },
    {
      "cell_type": "markdown",
      "metadata": {
        "id": "4RNCAfMXGRjb"
      },
      "source": [
        "#### Solution 2.6"
      ]
    },
    {
      "cell_type": "code",
      "execution_count": null,
      "metadata": {
        "id": "-S2f2_b-GRjb"
      },
      "outputs": [],
      "source": [
        "from sklearn.model_selection import cross_val_score\n",
        "from sklearn.linear_model import LogisticRegression\n",
        "from sklearn.ensemble import RandomForestRegressor\n",
        "from sklearn.tree import DecisionTreeRegressor\n",
        "from sklearn.model_selection import train_test_split\n",
        "X_cross = np.array(df.carat).reshape(-1, 1)\n",
        "y_cross = np.array(df.price).reshape(-1, 1)\n",
        "from sklearn.model_selection import train_test_split\n",
        "X_cross_train, X_cross_test, y_cross_train, y_cross_test = train_test_split(X_cross,y_cross,test_size=0.2)"
      ]
    },
    {
      "cell_type": "code",
      "source": [
        "# linear regression for comparison\n",
        "scores = cross_val_score(regr, X_cross_train, y_cross_train, cv=5)\n",
        "print('Cross-Validation Accuracy Scores', scores)\n",
        "\n",
        "scores = pd.Series(scores)\n",
        "scores.min(), scores.mean(), scores.max()\n"
      ],
      "metadata": {
        "id": "LgznZo6kKjzF",
        "colab": {
          "base_uri": "https://localhost:8080/"
        },
        "outputId": "5f765d94-9faa-44d5-8033-ce26ccc5b9d3"
      },
      "execution_count": null,
      "outputs": [
        {
          "output_type": "stream",
          "name": "stdout",
          "text": [
            "Cross-Validation Accuracy Scores [0.84970969 0.84432107 0.85761982 0.84724965 0.84803982]\n"
          ]
        },
        {
          "output_type": "execute_result",
          "data": {
            "text/plain": [
              "(0.8443210662623261, 0.849388007306818, 0.8576198157735164)"
            ]
          },
          "metadata": {},
          "execution_count": 68
        }
      ]
    },
    {
      "cell_type": "code",
      "source": [
        "#RANDOM FOREST REGRESSOR comparisonn\n",
        "rr = RandomForestRegressor()\n",
        "RR_scores=cross_val_score(rr,X_cross_train,y_cross_train,cv=5)\n",
        "print('\\n')\n",
        "print('Cross-Validation Accuracy Scores', RR_scores)\n",
        "scores = pd.Series(RR_scores)\n",
        "scores.min(), scores.mean(), scores.max()"
      ],
      "metadata": {
        "id": "72hD3lQaku1q",
        "colab": {
          "base_uri": "https://localhost:8080/"
        },
        "outputId": "34ed6d73-8a51-416e-8fe4-a778a5432265"
      },
      "execution_count": null,
      "outputs": [
        {
          "output_type": "stream",
          "name": "stderr",
          "text": [
            "/usr/local/lib/python3.7/dist-packages/sklearn/model_selection/_validation.py:680: DataConversionWarning: A column-vector y was passed when a 1d array was expected. Please change the shape of y to (n_samples,), for example using ravel().\n",
            "  estimator.fit(X_train, y_train, **fit_params)\n",
            "/usr/local/lib/python3.7/dist-packages/sklearn/model_selection/_validation.py:680: DataConversionWarning: A column-vector y was passed when a 1d array was expected. Please change the shape of y to (n_samples,), for example using ravel().\n",
            "  estimator.fit(X_train, y_train, **fit_params)\n",
            "/usr/local/lib/python3.7/dist-packages/sklearn/model_selection/_validation.py:680: DataConversionWarning: A column-vector y was passed when a 1d array was expected. Please change the shape of y to (n_samples,), for example using ravel().\n",
            "  estimator.fit(X_train, y_train, **fit_params)\n",
            "/usr/local/lib/python3.7/dist-packages/sklearn/model_selection/_validation.py:680: DataConversionWarning: A column-vector y was passed when a 1d array was expected. Please change the shape of y to (n_samples,), for example using ravel().\n",
            "  estimator.fit(X_train, y_train, **fit_params)\n",
            "/usr/local/lib/python3.7/dist-packages/sklearn/model_selection/_validation.py:680: DataConversionWarning: A column-vector y was passed when a 1d array was expected. Please change the shape of y to (n_samples,), for example using ravel().\n",
            "  estimator.fit(X_train, y_train, **fit_params)\n"
          ]
        },
        {
          "output_type": "stream",
          "name": "stdout",
          "text": [
            "\n",
            "\n",
            "Cross-Validation Accuracy Scores [0.87049851 0.86695351 0.87643973 0.86713466 0.86861756]\n"
          ]
        },
        {
          "output_type": "execute_result",
          "data": {
            "text/plain": [
              "(0.8669535131553086, 0.8699287949906565, 0.8764397340350376)"
            ]
          },
          "metadata": {},
          "execution_count": 69
        }
      ]
    },
    {
      "cell_type": "code",
      "source": [
        "rr2 = RandomForestRegressor()\n",
        "model_rr2 = rr2.fit(x_log_train, y_log_train)\n",
        "\n",
        "y_cross_pred = model.predict(x_log_test)\n",
        "\n",
        "MSE_cross = mse(y_log_test,y_log_pred)\n",
        "print(\"\"+ str(MSE_cross))\n",
        "\n",
        "# Random forest performs better "
      ],
      "metadata": {
        "id": "IT0sZHycUJIM",
        "colab": {
          "base_uri": "https://localhost:8080/"
        },
        "outputId": "3a3c9118-e520-4bfc-a720-8b28a4a096a7"
      },
      "execution_count": null,
      "outputs": [
        {
          "output_type": "stream",
          "name": "stderr",
          "text": [
            "/usr/local/lib/python3.7/dist-packages/ipykernel_launcher.py:2: DataConversionWarning: A column-vector y was passed when a 1d array was expected. Please change the shape of y to (n_samples,), for example using ravel().\n",
            "  \n"
          ]
        },
        {
          "output_type": "stream",
          "name": "stdout",
          "text": [
            "0.06902266941097827\n"
          ]
        }
      ]
    },
    {
      "cell_type": "markdown",
      "metadata": {
        "id": "F3YYR6JuGRjb"
      },
      "source": [
        "#### Solution 2.7"
      ]
    },
    {
      "cell_type": "markdown",
      "metadata": {
        "id": "OFVoeq_tGRjb"
      },
      "source": [
        "\n",
        "\n",
        "> Predictive models take data from the past to make future predictions. If we use the trained model after a long time for this example 20 years, the trends may have changed. The market for diamonds may have changed a lot. Availability of diamonds may have increaded or decreaded affecting the price. Countless factors can lead to variation in the price. So we cannot use a very old dataset to make prediction as it is outdated. \n",
        "\n",
        "\n",
        "\n",
        "> One way to overcome this issue is update the data continuously. Continual learning, also known as lifelong learning is a concept in machine learning, in which the models continuously learn and evolve based on the input of increasing amounts of data while retaining previously-learned knowledge.\n",
        "\n",
        "Reference for continuous learning definition: https://www.ncbi.nlm.nih.gov/pmc/articles/PMC8259323/#:~:text=Continual%20learning%2C%20also%20known%20as,while%20retaining%20previously%2Dlearned%20knowledge.\n",
        "\n"
      ]
    }
  ],
  "metadata": {
    "colab": {
      "provenance": []
    },
    "kernelspec": {
      "display_name": "Python 3 (ipykernel)",
      "language": "python",
      "name": "python3"
    },
    "language_info": {
      "codemirror_mode": {
        "name": "ipython",
        "version": 3
      },
      "file_extension": ".py",
      "mimetype": "text/x-python",
      "name": "python",
      "nbconvert_exporter": "python",
      "pygments_lexer": "ipython3",
      "version": "3.8.12"
    }
  },
  "nbformat": 4,
  "nbformat_minor": 0
}